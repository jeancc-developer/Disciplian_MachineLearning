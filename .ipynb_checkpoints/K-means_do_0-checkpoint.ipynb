{
 "cells": [
  {
   "cell_type": "markdown",
   "id": "a334e7f4",
   "metadata": {},
   "source": [
    "# K-means do 0: heurística para problema do agrupamento"
   ]
  },
  {
   "cell_type": "markdown",
   "id": "372244c9",
   "metadata": {},
   "source": [
    "### Entradas: \n",
    "####                    - vetor de dimensão n com m entradas (X)\n",
    "####                    - número de grupos (k)\n",
    "####                    - k vetores representativos de X (Z)\n",
    "\n",
    "### Saida: \n",
    "####                    - vetor com a classificação/ rotulação de cada ponto de X (C)"
   ]
  },
  {
   "cell_type": "markdown",
   "id": "4704aae4",
   "metadata": {},
   "source": [
    "## Importando principais bibliotecas para a execução do projeto"
   ]
  },
  {
   "cell_type": "code",
   "execution_count": 229,
   "id": "9f7844c8",
   "metadata": {},
   "outputs": [],
   "source": [
    "import matplotlib.pyplot as plt\n",
    "%matplotlib inline\n",
    "from numpy import *\n",
    "from numpy.random import rand, randint, seed\n",
    "from numpy.linalg import norm"
   ]
  },
  {
   "cell_type": "code",
   "execution_count": 230,
   "id": "13d7899a",
   "metadata": {},
   "outputs": [],
   "source": [
    "import warnings\n",
    "warnings.filterwarnings('ignore')"
   ]
  },
  {
   "cell_type": "markdown",
   "id": "0df7bb0c",
   "metadata": {},
   "source": [
    "## Gerando pontos para aplicar k-means"
   ]
  },
  {
   "cell_type": "code",
   "execution_count": 231,
   "id": "dcb83c12",
   "metadata": {
    "scrolled": false
   },
   "outputs": [
    {
     "data": {
      "image/png": "[encoded data removed]",
      "text/plain": [
       "<Figure size 432x288 with 1 Axes>"
      ]
     },
     "metadata": {
      "needs_background": "light"
     },
     "output_type": "display_data"
    }
   ],
   "source": [
    "seed(999)\n",
    "n = 2    # dimensão dos vetores\n",
    "m = 9000   # número de entradas\n",
    "k = 3    # número de grupos\n",
    "\n",
    "# Criando um X sintético\n",
    "max_dist_origem = 100\n",
    "max_raio = 10\n",
    "mk = int(floor(m/k)) # vou fazer cada grupo ter m/k vetores\n",
    "\n",
    "centros = max_dist_origem * rand(n,k)\n",
    "raios = max_raio * rand(k)\n",
    "X = random.randn(m, n)\n",
    "\n",
    "for i in range(k):\n",
    "    X[i*mk : (i+1)*mk, :] = X[i*mk : (i+1)*mk, :]*raios[i] + centros[:,i].reshape((1,n))\n",
    "    \n",
    "aa=plt.grid();\n",
    "aa=plt.axis('equal');\n",
    "for i in range(m):\n",
    "    aa=plt.plot(X[i,0],X[i,1],'bo');\n"
   ]
  },
  {
   "cell_type": "markdown",
   "id": "04f1035b",
   "metadata": {},
   "source": [
    "- Vale lembrar que a título de simplificação, o X sintético é gerado já pensando em pontos que estão razoavelmente concentrados em k grupos, pois o foco deste trabalho é criação e execução do algoritmo k-means."
   ]
  },
  {
   "cell_type": "markdown",
   "id": "f5cda1e4",
   "metadata": {},
   "source": [
    "# Primeiro input do Z (aleatorio) para criar o C"
   ]
  },
  {
   "cell_type": "code",
   "execution_count": 232,
   "id": "d8841331",
   "metadata": {},
   "outputs": [],
   "source": [
    "def calcula_Z_aleatorio(X, k):\n",
    "\n",
    "    Z = []\n",
    "    Z_i = []\n",
    "\n",
    "    while len(Z_i) != k:\n",
    "\n",
    "        r = randint(0, len(X))\n",
    "\n",
    "        if r not in Z_i:\n",
    "            Z_i.append(r)\n",
    "    \n",
    "    for i in arange(k):\n",
    "        Z.append(X[Z_i[i]])\n",
    "        \n",
    "    return Z"
   ]
  },
  {
   "cell_type": "markdown",
   "id": "67c7ec5f",
   "metadata": {},
   "source": [
    "- Como veremos adiante, para aplicar o k-menas é preciso de uma entrada de Zi vetores representativos, os quais neste trabalho serão escolhidos de forma aleatória."
   ]
  },
  {
   "cell_type": "markdown",
   "id": "3644e63f",
   "metadata": {},
   "source": [
    "# Calculando C, dado Z"
   ]
  },
  {
   "cell_type": "code",
   "execution_count": 233,
   "id": "7ab1439d",
   "metadata": {},
   "outputs": [],
   "source": [
    "from numpy.linalg import norm\n",
    "from numpy import argmin\n",
    "\n",
    "def calcula_C_dado_Z(Z, X, k, m):\n",
    "    \n",
    "    C = zeros(len(X))\n",
    "    for j in range(len(X)):\n",
    "        distancias_xj_zi = []\n",
    "        for i in range(k):\n",
    "            distancias_xj_zi.append(norm(X[j] - Z[i]))\n",
    "        C[j] = argmin(distancias_xj_zi)\n",
    "\n",
    "    return C"
   ]
  },
  {
   "cell_type": "markdown",
   "id": "8148a4b3",
   "metadata": {},
   "source": [
    "# Calculando Z, dado C "
   ]
  },
  {
   "cell_type": "code",
   "execution_count": 234,
   "id": "f4b7aa88",
   "metadata": {},
   "outputs": [],
   "source": [
    "def calcula_Z_dado_C(C, X, k, m):\n",
    "    \n",
    "    Z = []\n",
    "    for i in range(k):\n",
    "        \n",
    "        cont = 0\n",
    "        \n",
    "        zi = zeros([k, len(X[0])])\n",
    "        for j in range(m):\n",
    "            if C[j] == i:\n",
    "                zi[i] += X[j]\n",
    "                cont += 1\n",
    "\n",
    "        zi[i] = array(zi[i])\n",
    "        Z.append(zi[i] / cont)\n",
    "        \n",
    "    return Z"
   ]
  },
  {
   "cell_type": "markdown",
   "id": "e178bfcd",
   "metadata": {},
   "source": [
    "# Vizualizando os k-grupos e o zi de cada (configurado para k = 3)"
   ]
  },
  {
   "cell_type": "code",
   "execution_count": 235,
   "id": "51dd1e9a",
   "metadata": {},
   "outputs": [],
   "source": [
    "def plota_pontos_k_means(m, C, Z):\n",
    "    \n",
    "    aa=plt.grid();\n",
    "    aa=plt.axis('equal');\n",
    "    for i in range(m):\n",
    "        if C[i] == 0:\n",
    "            aa=plt.plot(X[i,0],X[i,1],'go');\n",
    "        elif C[i] == 1:\n",
    "            aa=plt.plot(X[i,0],X[i,1],'ro');\n",
    "        elif C[i] == 2:\n",
    "            aa=plt.plot(X[i,0],X[i,1],'yo');\n",
    "        \n",
    "    for i in range(len(Z)):\n",
    "        aa = plt.plot(Z[i][0], Z[i][1], 'bo')\n",
    "\n",
    "    return aa"
   ]
  },
  {
   "cell_type": "markdown",
   "id": "1d76b9b8",
   "metadata": {},
   "source": [
    "# Aplicando o k-means"
   ]
  },
  {
   "cell_type": "code",
   "execution_count": 236,
   "id": "f0c36642",
   "metadata": {},
   "outputs": [
    {
     "name": "stdout",
     "output_type": "stream",
     "text": [
      "1 iteracao\n",
      "2 iteracao\n",
      "3 iteracao\n",
      "4 iteracao\n"
     ]
    },
    {
     "data": {
      "text/plain": [
       "[<matplotlib.lines.Line2D at 0x22a001d6ca0>]"
      ]
     },
     "execution_count": 236,
     "metadata": {},
     "output_type": "execute_result"
    },
    {
     "data": {
      "image/png": "[encoded data removed]",
      "text/plain": [
       "<Figure size 432x288 with 1 Axes>"
      ]
     },
     "metadata": {
      "needs_background": "light"
     },
     "output_type": "display_data"
    }
   ],
   "source": [
    "Z0 = calcula_Z_aleatorio(X, k)\n",
    "C0 = calcula_C_dado_Z(Z0, X, k, m)\n",
    "c = 1\n",
    "while(True):\n",
    "    print(f'{c} iteracao')\n",
    "    c += 1\n",
    "    Z = calcula_Z_dado_C(C0, X, k, m)\n",
    "    C = calcula_C_dado_Z(Z, X, k, m)\n",
    "    if all(C == C0):\n",
    "        break\n",
    "    C0 = C\n",
    "        \n",
    "plota_pontos_k_means(m, C, Z)"
   ]
  },
  {
   "cell_type": "code",
   "execution_count": 237,
   "id": "04f3b2a5",
   "metadata": {},
   "outputs": [
    {
     "name": "stdout",
     "output_type": "stream",
     "text": [
      "Vetor classificador de cada um dos pontos de X: \n",
      " [0. 0. 0. ... 2. 2. 2.]\n"
     ]
    }
   ],
   "source": [
    "print(f'Vetor classificador de cada um dos pontos de X: \\n', C)"
   ]
  }
 ],
 "metadata": {
  "kernelspec": {
   "display_name": "Python 3",
   "language": "python",
   "name": "python3"
  },
  "language_info": {
   "codemirror_mode": {
    "name": "ipython",
    "version": 3
   },
   "file_extension": ".py",
   "mimetype": "text/x-python",
   "name": "python",
   "nbconvert_exporter": "python",
   "pygments_lexer": "ipython3",
   "version": "3.8.8"
  }
 },
 "nbformat": 4,
 "nbformat_minor": 5
}
