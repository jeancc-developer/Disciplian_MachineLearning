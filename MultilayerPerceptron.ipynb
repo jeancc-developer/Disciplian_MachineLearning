{
 "cells": [
  {
   "cell_type": "code",
   "execution_count": 8,
   "metadata": {
    "id": "eJ7X7v_QxUFo"
   },
   "outputs": [],
   "source": [
    "#GRUPO:\n",
    "#Giovanna Arana Paganotti - 11315033\n",
    "#Glaucia Pamponet Sobrinho - 11271000\n",
    "#Thais Bonjorni Nobre de Jesus - 10719302\n"
   ]
  },
  {
   "cell_type": "markdown",
   "metadata": {
    "id": "ggvE1KTYqp45"
   },
   "source": [
    "# **Imports e Métodos**"
   ]
  },
  {
   "cell_type": "code",
   "execution_count": 9,
   "metadata": {
    "colab": {
     "base_uri": "https://localhost:8080/"
    },
    "id": "8pxA1wTm2vFW",
    "outputId": "73ba6f71-ffde-40ec-c365-d53f47a5b9b7"
   },
   "outputs": [],
   "source": [
    "import numpy as np\n",
    "import pandas as pd\n",
    "import matplotlib.pyplot as plt\n",
    "from sklearn.model_selection import train_test_split\n",
    "from scipy.special import expit\n",
    "from mlxtend.evaluate import confusion_matrix\n",
    "from mlxtend.plotting import plot_confusion_matrix\n",
    "import plotly.figure_factory as ff\n",
    "import seaborn as sn"
   ]
  },
  {
   "cell_type": "code",
   "execution_count": 10,
   "metadata": {
    "id": "1d6bkJ5gMaLf"
   },
   "outputs": [],
   "source": [
    "def probsLogicos(problema):\n",
    "    gdd.download_file_from_google_drive(file_id=google_id, dest_path = './problem'+problema+'.csv', showsize = True) #download no drive\n",
    "    data = pd.read_csv(\"/content/drive/Shareddrives/Voodoo Chicken/5SEM/IA/MLP/CSVs/problem\"+problema+\".csv\", header=None).to_numpy() #faz array para facilitar o uso\n",
    "  # print('Dataset '+problema+\":\")\n",
    "  # print(data, \"\\n\\n\")\n",
    "  \n",
    "  #recorte de entradas e saidas\n",
    "    Xtrain = data[0:, 0:2].T\n",
    "    Ytrain = data[0:, 2:3].T\n",
    "\n",
    "  #cria o modelo\n",
    "    modelo = MultPerc(2, 31, 1) #entrada, escondida, saida\n",
    "\n",
    "    print(\"PESOS ESCONDIDA\\n\",modelo.Pesc.T)\n",
    "    print(\"\\nPESOS SAIDA\\n\",modelo.Psaida)\n",
    "    print(\"\\nBIAS ESCONDIDA\\n\",modelo.Besc.T)\n",
    "    print(\"\\nBIAS SAIDA\\n\",modelo.Bsaida.T)\n",
    "    print(\"\\n\\n\")\n",
    "\n",
    "  # print(problema+\" Antes do Treino:\")\n",
    "  # print(feedforward(modelo, Xtrain), \"\\n\")\n",
    "\n",
    "    back(modelo, Xtrain, Ytrain, 0.1, 0.001)\t#modelo, entradasDataset, saidasDataset, taxa aprend, limiteErro\n",
    "\n",
    "  # print(\"\\n\"+problema+\" Depois do Treino:\")\n",
    "  # print(feedforward(modelo, Xtrain))\n",
    "\n",
    "    return modelo"
   ]
  },
  {
   "cell_type": "code",
   "execution_count": 11,
   "metadata": {
    "id": "F7ixmEVaFLAb"
   },
   "outputs": [],
   "source": [
    "def fazBin(resultado):\n",
    "  resultado2 = np.copy(resultado)\n",
    "  rescop = resultado2.astype(int)\n",
    "  for i in range(0, resultado2.shape[0]):\n",
    "    r = 0\n",
    "    for m in range(0, int(len(resultado2[i]))):\n",
    "      if resultado2[i, m] > r:\n",
    "        r = resultado2[i, m]\n",
    "    ja = False\n",
    "    for o in range(0, int(len(resultado2[i]))):\n",
    "      if resultado2[i, o] == r and not ja:\n",
    "        ja = True\n",
    "        rescop[i, o] = int(1)\n",
    "      else: rescop[i, o] = int(0)\n",
    "    \n",
    "  return rescop"
   ]
  },
  {
   "cell_type": "markdown",
   "metadata": {
    "id": "XTGPbBzJruWO"
   },
   "source": [
    "# **Estrutura do Modelo**"
   ]
  },
  {
   "cell_type": "code",
   "execution_count": 12,
   "metadata": {
    "id": "mcBGktjTMZAG"
   },
   "outputs": [],
   "source": [
    "class MultPerc():\n",
    "    def __init__(self, entra, esc, said):\n",
    "        self.entrada = entra\n",
    "        self.escondida = esc\n",
    "        self.saida = said\n",
    "        self.Pesc, self.Besc = self.geraPesos(esc, entra)\n",
    "        self.Psaida, self.Bsaida = self.geraPesos(said, esc)\n",
    "\n",
    "    def geraPesos(self, lin, col):\n",
    "        P = np.random.ranf((lin, col)) - 0.5\n",
    "        B = np.ones((lin, 1))\n",
    "        return P, B\n",
    "\n",
    "    def guardResult(self, resesc, resFesc, resai, resFsai):\n",
    "        self.resesc = resesc\n",
    "        self.resFesc = resFesc\n",
    "        self.resai = resai\n",
    "        self.resFsai = resFsai\n",
    "    \n",
    "    def guardEpoca(self, epc, lista):\n",
    "        self.epocas = epc\n",
    "        self.listaErro = lista\n"
   ]
  },
  {
   "cell_type": "markdown",
   "metadata": {
    "id": "y6-PS8ljr5yk"
   },
   "source": [
    "# **Função de Ativação e Derivada**"
   ]
  },
  {
   "cell_type": "code",
   "execution_count": 13,
   "metadata": {
    "id": "pftUwgDZriEN"
   },
   "outputs": [],
   "source": [
    "def funcAtivacao (av):\n",
    "    norberto = expit(av) #1/(1+exp(-x))\n",
    "    return norberto\n",
    "  \n",
    "def derivada (av):\n",
    "    return av - np.power(av, 2) #(funcAtivacao(av) * (1 - funcAtivacao(av)))"
   ]
  },
  {
   "cell_type": "markdown",
   "metadata": {
    "id": "9xoduVRjsCrL"
   },
   "source": [
    "# **FeedForward**"
   ]
  },
  {
   "cell_type": "code",
   "execution_count": 14,
   "metadata": {
    "id": "gtrszKjcrnO0"
   },
   "outputs": [],
   "source": [
    "def feedforward(modelo, linha):\n",
    "  #passando pela escondida\n",
    "  modelo.resesc = np.dot(modelo.Pesc, linha) + modelo.Besc\n",
    "  modelo.resFesc = funcAtivacao(modelo.resesc) #RESULTADO DA ESCONDIDA \n",
    "\n",
    "  #passando pela saida\n",
    "  modelo.resai = np.dot(modelo.Psaida, modelo.resFesc) + modelo.Bsaida\n",
    "  res = funcAtivacao(modelo.resai) #RESULTADO DA SAIDA USANDO A ESCONDIDA\n",
    "  modelo.resFsai = res\n",
    "\n",
    "  return res"
   ]
  },
  {
   "cell_type": "markdown",
   "metadata": {
    "id": "QCO-BYM9sM8_"
   },
   "source": [
    "# **Retro-Propagação de Erro - BackPropagation**"
   ]
  },
  {
   "cell_type": "code",
   "execution_count": 15,
   "metadata": {
    "id": "CLd13XWhrcgf"
   },
   "outputs": [],
   "source": [
    "def back(modelo, X, Y, learningRate, tresh):\n",
    "  errorList = []\n",
    "  tamData = int(len(X.T))\n",
    "  erroCorr = 2*tresh\n",
    "  epocas = 0\n",
    "\n",
    "  #rodando epocas até o erro ser aceitavel\n",
    "  while(erroCorr > tresh):\n",
    "    #passa por cada linha do dataset enviado no parametro\n",
    "    for i in range(0, tamData):\n",
    "      caso = X[0:len(X), i:i+1]\n",
    "      resposta = Y[0:len(Y), i:i+1]\n",
    "      \n",
    "      res = feedforward(modelo, caso)\n",
    "\n",
    "      erroCorr += float(np.sum((np.sum((res - resposta)**2, axis = 0, keepdims = True)), axis = 1, keepdims = True))\n",
    "\n",
    "      #TREINAMENTO DAS CAMADAS\n",
    "      dsaida = -2*(res - resposta)*(derivada(res)) #VARIAÇÂO SAIDA\n",
    "      dPsaida = np.dot(dsaida, modelo.resFesc.T)\n",
    "      dBsaida = np.sum(dsaida, axis = 1, keepdims = True)\n",
    "\n",
    "      desc = np.dot(modelo.Psaida.T, dsaida)*(derivada(modelo.resFesc)) #VARIAÇÃO ESCONDIDA\n",
    "      dPesc = np.dot(desc, caso.T) \n",
    "      dBesc = np.sum(desc, axis = 1, keepdims = True)\n",
    "\n",
    "      #ATUALIZAÇÃO NO MODELO\n",
    "      modelo.Psaida += learningRate*dPsaida\n",
    "      modelo.Bsaida += learningRate*dBsaida\n",
    "      modelo.Pesc += learningRate*dPesc\n",
    "      modelo.Besc += learningRate*dBesc\n",
    "\n",
    "    erroCorr = erroCorr/tamData\n",
    "    errorList.append(erroCorr) #lista com erros das epocas\n",
    "    epocas += 1\n",
    "\n",
    "    #print(\"ERRO:\", erroCorr)\n",
    "\n",
    "  modelo.guardEpoca(epocas, errorList)\n",
    "  \n",
    "  fig = plt.figure(figsize = (8,7))\n",
    "  fig.patch.set_facecolor('white')\n",
    "  plt.plot(range(0, modelo.epocas), modelo.listaErro, \"r-\")\n",
    "  plt.grid(False)\n",
    "  plt.title(\"Erro Por Epocas\")\n",
    "  plt.show()\n"
   ]
  },
  {
   "cell_type": "markdown",
   "metadata": {
    "id": "7XFTXCvOtC38"
   },
   "source": [
    "\n",
    "# **Teste dos Problemas Lógicos**"
   ]
  },
  {
   "cell_type": "markdown",
   "metadata": {
    "id": "0f2MkbqVPOlM"
   },
   "source": [
    "### **XOR**"
   ]
  },
  {
   "cell_type": "code",
   "execution_count": 16,
   "metadata": {
    "colab": {
     "base_uri": "https://localhost:8080/"
    },
    "id": "DGCVywDyOv7Z",
    "outputId": "33e6ebb4-9abf-45f4-cfe3-44ab12ab1a27"
   },
   "outputs": [
    {
     "ename": "NameError",
     "evalue": "name 'gdd' is not defined",
     "output_type": "error",
     "traceback": [
      "\u001b[1;31m---------------------------------------------------------------------------\u001b[0m",
      "\u001b[1;31mNameError\u001b[0m                                 Traceback (most recent call last)",
      "Cell \u001b[1;32mIn [16], line 1\u001b[0m\n\u001b[1;32m----> 1\u001b[0m modelXOR \u001b[38;5;241m=\u001b[39m \u001b[43mprobsLogicos\u001b[49m\u001b[43m(\u001b[49m\u001b[38;5;124;43m\"\u001b[39;49m\u001b[38;5;124;43mXOR\u001b[39;49m\u001b[38;5;124;43m\"\u001b[39;49m\u001b[43m)\u001b[49m\n",
      "Cell \u001b[1;32mIn [10], line 2\u001b[0m, in \u001b[0;36mprobsLogicos\u001b[1;34m(problema)\u001b[0m\n\u001b[0;32m      1\u001b[0m \u001b[38;5;28;01mdef\u001b[39;00m \u001b[38;5;21mprobsLogicos\u001b[39m(problema):\n\u001b[1;32m----> 2\u001b[0m     \u001b[43mgdd\u001b[49m\u001b[38;5;241m.\u001b[39mdownload_file_from_google_drive(file_id\u001b[38;5;241m=\u001b[39mgoogle_id, dest_path \u001b[38;5;241m=\u001b[39m \u001b[38;5;124m'\u001b[39m\u001b[38;5;124m./problem\u001b[39m\u001b[38;5;124m'\u001b[39m\u001b[38;5;241m+\u001b[39mproblema\u001b[38;5;241m+\u001b[39m\u001b[38;5;124m'\u001b[39m\u001b[38;5;124m.csv\u001b[39m\u001b[38;5;124m'\u001b[39m, showsize \u001b[38;5;241m=\u001b[39m \u001b[38;5;28;01mTrue\u001b[39;00m) \u001b[38;5;66;03m#download no drive\u001b[39;00m\n\u001b[0;32m      3\u001b[0m     data \u001b[38;5;241m=\u001b[39m pd\u001b[38;5;241m.\u001b[39mread_csv(\u001b[38;5;124m\"\u001b[39m\u001b[38;5;124m/content/drive/Shareddrives/Voodoo Chicken/5SEM/IA/MLP/CSVs/problem\u001b[39m\u001b[38;5;124m\"\u001b[39m\u001b[38;5;241m+\u001b[39mproblema\u001b[38;5;241m+\u001b[39m\u001b[38;5;124m\"\u001b[39m\u001b[38;5;124m.csv\u001b[39m\u001b[38;5;124m\"\u001b[39m, header\u001b[38;5;241m=\u001b[39m\u001b[38;5;28;01mNone\u001b[39;00m)\u001b[38;5;241m.\u001b[39mto_numpy() \u001b[38;5;66;03m#faz array para facilitar o uso\u001b[39;00m\n\u001b[0;32m      4\u001b[0m   \u001b[38;5;66;03m# print('Dataset '+problema+\":\")\u001b[39;00m\n\u001b[0;32m      5\u001b[0m   \u001b[38;5;66;03m# print(data, \"\\n\\n\")\u001b[39;00m\n\u001b[0;32m      6\u001b[0m   \n\u001b[0;32m      7\u001b[0m   \u001b[38;5;66;03m#recorte de entradas e saidas\u001b[39;00m\n",
      "\u001b[1;31mNameError\u001b[0m: name 'gdd' is not defined"
     ]
    }
   ],
   "source": [
    "modelXOR = probsLogicos(\"XOR\")"
   ]
  },
  {
   "cell_type": "markdown",
   "metadata": {
    "id": "ZUSv12gVPU2h"
   },
   "source": [
    "# **Dataset Caracteres Limpos**"
   ]
  },
  {
   "cell_type": "markdown",
   "metadata": {
    "id": "L2DVOt-MPe64"
   },
   "source": [
    "### **Treinamento**"
   ]
  },
  {
   "cell_type": "code",
   "execution_count": null,
   "metadata": {
    "colab": {
     "base_uri": "https://localhost:8080/"
    },
    "id": "f5MdH5q9Pdm3",
    "outputId": "0c2fcaee-8200-48cf-b739-e195d3f21fb1"
   },
   "outputs": [],
   "source": [
    "gdd.download_file_from_google_drive(file_id=google_id, dest_path = './caracteres-limpo.csv', showsize = True)\n",
    "dataLIMPO = pd.read_csv(\"/content/drive/Shareddrives/Voodoo Chicken/5SEM/IA/MLP/CSVs/caracteres-limpo.csv\", header=None, low_memory=False)\n",
    "dataLIMPO.head(dataLIMPO.shape[0])\n",
    "\n",
    "\n",
    "#print(dataLIMPO, \"\\n\\n\")\n",
    "dataLIMPO = dataLIMPO.to_numpy()\n",
    "\n",
    "#SEPARAÇÃO DAS ENTRADAS E SAIDAS\n",
    "Xtrain = dataLIMPO[0:, 0:63]\n",
    "Ytrain = dataLIMPO[0:, 63:]\n",
    "\n",
    "entreino, enteste, saitreino, saiteste = train_test_split(Xtrain, Ytrain, test_size=0.3)\n",
    "\n",
    "particaoENT = pd.DataFrame(entreino)\n",
    "particaoSAI = pd.DataFrame(saitreino)\n",
    "particaoENT.to_csv('/content/drive/Shareddrives/Voodoo Chicken/5SEM/IA/MLP/CSVs/arquivoEnt.csv')\n",
    "particaoSAI.to_csv('/content/drive/Shareddrives/Voodoo Chicken/5SEM/IA/MLP/CSVs/arquivoSai.csv')\n",
    "\n",
    "# #cria o modelo\n",
    "modelo = MultPerc(63, 31, 7)\t#entrada, escondida, saida\n",
    "\n",
    "# print(\" Antes do Treino:\\n\")\n",
    "# antesLIMPO = pd.DataFrame(forwardProp(modelo, entreino.T).T)\n",
    "# print(antesLIMPO.head(antesLIMPO.shape[0]), \"\\n\\n\")\n",
    "\n",
    "print(\"Resultados do Conjunto:\\n\")\n",
    "saidaset = pd.DataFrame(saitreino)\n",
    "print(saidaset.head(saidaset.shape[0]), \"\\n\\n\")\n",
    "\n",
    "back(modelo, entreino.T, saitreino.T, 0.1, 0.001)\t#modelo, entradasDataset, saidasDataset, taxa, limiteErro\n",
    "\n",
    "print(\"\\n Depois do Treino:\\n\")\n",
    "limpoTREINO = pd.DataFrame(feedforward(modelo, entreino.T).T)\n",
    "limpoTREINO.head(limpoTREINO.shape[0])"
   ]
  },
  {
   "cell_type": "code",
   "execution_count": null,
   "metadata": {
    "colab": {
     "base_uri": "https://localhost:8080/"
    },
    "id": "VP933Wsx9FVJ",
    "outputId": "03301377-054d-4a7f-f0a3-c66c197daaa9"
   },
   "outputs": [],
   "source": [
    "jedo = fazLetra(fazBin(feedforward(modelo, entreino.T).T))\n",
    "jeda = fazLetra(saitreino)\n",
    "cm = confusion_matrix(jedo, jeda, binary=False)\n",
    "uniao = np.union1d(jeda, jedo)\n",
    "df_cm = pd.DataFrame(cm,  columns=np.unique(uniao), index = np.unique(uniao))\n",
    "df_cm.index.name = 'Expectativa'\n",
    "df_cm.columns.name = 'Realidade'\n",
    "figu = plt.figure(figsize = (8,7))\n",
    "figu.patch.set_facecolor('white')\n",
    "plt.title(\"\\nMatriz de Confusão\\n\")\n",
    "sn.heatmap(df_cm, annot=True, linewidths=.5, cbar = False) "
   ]
  },
  {
   "cell_type": "markdown",
   "metadata": {
    "id": "GVaf-SLcPkFs"
   },
   "source": [
    "### **Teste**"
   ]
  },
  {
   "cell_type": "markdown",
   "metadata": {
    "id": "XuqcRENIGv2w"
   },
   "source": [
    "Resposta do Conjunto de Teste"
   ]
  },
  {
   "cell_type": "code",
   "execution_count": null,
   "metadata": {
    "colab": {
     "base_uri": "https://localhost:8080/"
    },
    "id": "4SAzRJ4NPiL9",
    "outputId": "51a217c3-f42f-42d9-bb34-679e5b16f6a0"
   },
   "outputs": [],
   "source": [
    "\n",
    "#TESTE LIMPO\n",
    "jedo = fazLetra(saiteste) #transforma resposta certa em letra\n",
    "print(\"Resultado certo:\", jedo)\n",
    "testeset = pd.DataFrame(saiteste)\n",
    "print(testeset.head(saiteste.shape[0]), \"\\n\\n\")\n",
    "\n",
    "print(\"Resultado Obtido:\")\n",
    "limpoTESTE = pd.DataFrame(feedforward(modelo, enteste.T).T)\n",
    "print(limpoTESTE.head(limpoTESTE.shape[0]), \"\\n\\n\")\n",
    "\n",
    "variavel = fazBin(limpoTESTE) #transforma resposta da rede em binario\n",
    "jeda = fazLetra(variavel) #transforma binario em letra\n",
    "print(\"Resultado Aproximado:\", jeda)\n",
    "print(pd.DataFrame(variavel).head(limpoTESTE.shape[0]))\n",
    "\n",
    "\n"
   ]
  },
  {
   "cell_type": "code",
   "execution_count": null,
   "metadata": {
    "colab": {
     "base_uri": "https://localhost:8080/"
    },
    "id": "rBhTXOAod9vU",
    "outputId": "ee5af228-b973-442f-83d3-380870575e8d"
   },
   "outputs": [],
   "source": [
    "print(modelo.Pesc)\n",
    "print(modelo.Besc)"
   ]
  },
  {
   "cell_type": "markdown",
   "metadata": {
    "id": "Mrdm_wZZCULA"
   },
   "source": [
    "### **Matriz de Confusão**"
   ]
  },
  {
   "cell_type": "code",
   "execution_count": null,
   "metadata": {
    "colab": {
     "base_uri": "https://localhost:8080/"
    },
    "id": "bbny2cW7CdSF",
    "outputId": "41a5cfdf-8397-48b4-da1c-37e9f7001c8f"
   },
   "outputs": [],
   "source": [
    "#MATRIZ\n",
    "cm = confusion_matrix(jedo, jeda, binary=False)\n",
    "\n",
    "#UNIAO DOS LABELS PARA REPRESENTAR\n",
    "uniao = np.union1d(jeda, jedo)\n",
    "\n",
    "#REP GRAFICA\n",
    "df_cm = pd.DataFrame(cm,  columns=np.unique(uniao), index = np.unique(uniao))\n",
    "df_cm.index.name = 'Expectativa'\n",
    "df_cm.columns.name = 'Realidade'\n",
    "figu = plt.figure(figsize = (8,7))\n",
    "figu.patch.set_facecolor('white')\n",
    "plt.title(\"\\nMatriz de Confusão Limpo\\n\")\n",
    "sn.heatmap(df_cm, annot=True, linewidths=.5, cbar = False) "
   ]
  },
  {
   "cell_type": "markdown",
   "metadata": {
    "id": "zWfvdQoC-Xoi"
   },
   "source": [
    "# **Dataset Caracteres com Ruído**"
   ]
  },
  {
   "cell_type": "markdown",
   "metadata": {
    "id": "gxbDUspX-iDb"
   },
   "source": [
    "### **Treinamento**"
   ]
  },
  {
   "cell_type": "code",
   "execution_count": null,
   "metadata": {
    "colab": {
     "base_uri": "https://localhost:8080/"
    },
    "id": "ITafQFN9-hCv",
    "outputId": "b7cba965-a418-45f0-a978-1c2b7d5e19e6"
   },
   "outputs": [],
   "source": [
    "gdd.download_file_from_google_drive(file_id=google_id, dest_path = './caracteres-ruido.csv', showsize = True)\n",
    "dataRUIDO = pd.read_csv(\"/content/drive/Shareddrives/Voodoo Chicken/5SEM/IA/MLP/CSVs/caracteres-ruido.csv\", header=None, low_memory=False)\n",
    "dataRUIDO.head(dataRUIDO.shape[0])\n",
    "\n",
    "\n",
    "#print(dataLIMPO, \"\\n\\n\")\n",
    "dataRUIDO = dataRUIDO.to_numpy()\n",
    "\n",
    "#SEPARA ENTRADA DA SAIDA\n",
    "XtrainR = dataRUIDO[0:, 0:63]\n",
    "YtrainR = dataRUIDO[0:, 63:]\n",
    "\n",
    "#DIVISAO ALEATORIA DO DATASET EM PARTE DE TREINO E TESTE\n",
    "entreinoR, entesteR, saitreinoR, saitesteR = train_test_split(XtrainR, YtrainR, test_size=0.3)\n",
    "\n",
    "particaoENTr = pd.DataFrame(entreino)\n",
    "particaoSAIr = pd.DataFrame(saitreino)\n",
    "particaoENTr.to_csv('/content/drive/Shareddrives/Voodoo Chicken/5SEM/IA/MLP/CSVs/arquivoEntR.csv')\n",
    "particaoSAIr.to_csv('/content/drive/Shareddrives/Voodoo Chicken/5SEM/IA/MLP/CSVs/arquivoSaiR.csv')\n",
    "\n",
    "# #cria o modelo\n",
    "modeloRuido = MultPerc(63, 31, 7)\t#entrada, escondida, saida\n",
    "\n",
    "# print(\" Antes do Treino:\\n\")\n",
    "# antesLIMPO = pd.DataFrame(forwardProp(modelo, entreino.T).T)\n",
    "# print(antesLIMPO.head(antesLIMPO.shape[0]), \"\\n\\n\")\n",
    "\n",
    "print(\"Resultados do Conjunto:\\n\")\n",
    "saidasetR = pd.DataFrame(saitreinoR)\n",
    "print(saidasetR.head(saidasetR.shape[0]), \"\\n\\n\")\n",
    "\n",
    "back(modeloRuido, entreinoR.T, saitreinoR.T, 0.1, 0.001)\t#modelo, entradasDataset, saidasDataset, taxa, limiteErro\n",
    "\n",
    "print(\"\\n Depois do Treino:\\n\")\n",
    "ruidoTREINO = pd.DataFrame(feedforward(modeloRuido, entreinoR.T).T)\n",
    "ruidoTREINO.head(ruidoTREINO.shape[0])"
   ]
  },
  {
   "cell_type": "code",
   "execution_count": null,
   "metadata": {
    "colab": {
     "base_uri": "https://localhost:8080/"
    },
    "id": "OFNZsQbJemaW",
    "outputId": "73203422-110c-4199-9b8e-57745819f404"
   },
   "outputs": [],
   "source": [
    "print(modeloRuido.epocas)"
   ]
  },
  {
   "cell_type": "markdown",
   "metadata": {
    "id": "DNBQ-h9hEA5h"
   },
   "source": [
    "Matriz de Confusao do Treinamento"
   ]
  },
  {
   "cell_type": "code",
   "execution_count": null,
   "metadata": {
    "colab": {
     "base_uri": "https://localhost:8080/"
    },
    "id": "C0W8VehPBKS7",
    "outputId": "32f7c191-b0af-4291-b34b-00c122937cd7"
   },
   "outputs": [],
   "source": [
    "#UNIAO DAS RESPOSTAS PARA FAZER TODOS OS LABELS POSSIVEIS DA MATRIZ\n",
    "jedo = fazLetra(fazBin(feedforward(modeloRuido, entreinoR.T).T))\n",
    "jeda = fazLetra(saitreinoR)\n",
    "\n",
    "#MONTA MATRIZ\n",
    "cm = confusion_matrix(jedo, jeda, binary=False)\n",
    "uniao = np.union1d(jeda, jedo)\n",
    "df_cm = pd.DataFrame(cm,  columns=np.unique(uniao), index = np.unique(uniao))\n",
    "df_cm.index.name = 'Expectativa'\n",
    "df_cm.columns.name = 'Realidade'\n",
    "figu = plt.figure(figsize = (8,7))\n",
    "figu.patch.set_facecolor('white')\n",
    "plt.title(\"\\nMatriz de Confusão Treinamento Com Ruido\\n\")\n",
    "sn.heatmap(df_cm, annot=True, linewidths=.5, cbar = False) "
   ]
  },
  {
   "cell_type": "markdown",
   "metadata": {
    "id": "InvCb2Ox-lV7"
   },
   "source": [
    "### **Teste**"
   ]
  },
  {
   "cell_type": "code",
   "execution_count": null,
   "metadata": {
    "colab": {
     "base_uri": "https://localhost:8080/"
    },
    "id": "bGyfJqkT-nku",
    "outputId": "e1689692-0d02-485a-be22-660d8e9d6cfc"
   },
   "outputs": [],
   "source": [
    "\n",
    "#TESTE RUIDO\n",
    "jedoR = fazLetra(saitesteR) #transforma resposta certa em letra\n",
    "print(\"Resultado certo:\", jedoR) \n",
    "testesetR = pd.DataFrame(saitesteR)\n",
    "print(testesetR.head(saitesteR.shape[0]), \"\\n\\n\")\n",
    "\n",
    "print(\"Resultado Obtido:\")\n",
    "ruidoTESTE = pd.DataFrame(feedforward(modeloRuido, entesteR.T).T)\n",
    "print(ruidoTESTE.head(ruidoTESTE.shape[0]), \"\\n\\n\")\n",
    "\n",
    "variavelR = fazBin(ruidoTESTE) #transforma resposta da rede em binario\n",
    "jedaR = fazLetra(variavelR) #transforma binario em letra\n",
    "print(\"Resultado Aproximado:\", jedaR)\n",
    "print(pd.DataFrame(variavelR).head(ruidoTESTE.shape[0]))\n"
   ]
  },
  {
   "cell_type": "markdown",
   "metadata": {
    "id": "tybYKEA9-qXW"
   },
   "source": [
    "### **Matriz de Confusão**"
   ]
  },
  {
   "cell_type": "code",
   "execution_count": null,
   "metadata": {
    "colab": {
     "base_uri": "https://localhost:8080/"
    },
    "id": "VfcbQ3x9-uaq",
    "outputId": "1d9a826d-6b32-48ef-8aaa-4ec8b8f6298b"
   },
   "outputs": [],
   "source": [
    "#MATRIZ\n",
    "cm = confusion_matrix(jedoR, jedaR, binary=False)\n",
    "\n",
    "#UNIAO DOS LABELS POSSIVEIS NA MATRIZ\n",
    "uniao = np.union1d(jedaR, jedoR)\n",
    "\n",
    "#REP GRAFICA\n",
    "df_cm = pd.DataFrame(cm,  columns=np.unique(uniao), index = np.unique(uniao))\n",
    "df_cm.index.name = 'Expectativa'\n",
    "df_cm.columns.name = 'Realidade'\n",
    "figu = plt.figure(figsize = (8,7))\n",
    "figu.patch.set_facecolor('white')\n",
    "plt.title(\"\\nMatriz de Confusão com Ruido\\n\")\n",
    "sn.heatmap(df_cm, annot=True, linewidths=.5, cbar = False) "
   ]
  }
 ],
 "metadata": {
  "colab": {
   "collapsed_sections": [
    "9xoduVRjsCrL",
    "QCO-BYM9sM8_",
    "7XFTXCvOtC38",
    "i7dE4Cs4tncZ",
    "RZ9-r27tPKMV",
    "0f2MkbqVPOlM",
    "L2DVOt-MPe64",
    "GVaf-SLcPkFs",
    "Mrdm_wZZCULA",
    "gxbDUspX-iDb",
    "InvCb2Ox-lV7",
    "tybYKEA9-qXW"
   ],
   "name": "MultilayerPerceptron.ipynb",
   "provenance": []
  },
  "kernelspec": {
   "display_name": "Python 3 (ipykernel)",
   "language": "python",
   "name": "python3"
  },
  "language_info": {
   "codemirror_mode": {
    "name": "ipython",
    "version": 3
   },
   "file_extension": ".py",
   "mimetype": "text/x-python",
   "name": "python",
   "nbconvert_exporter": "python",
   "pygments_lexer": "ipython3",
   "version": "3.11.0"
  }
 },
 "nbformat": 4,
 "nbformat_minor": 4
}
